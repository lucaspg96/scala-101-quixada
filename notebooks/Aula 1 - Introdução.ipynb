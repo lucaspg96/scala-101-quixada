{
 "cells": [
  {
   "cell_type": "markdown",
   "metadata": {},
   "source": [
    "# Aula 1"
   ]
  },
  {
   "cell_type": "markdown",
   "metadata": {},
   "source": [
    "Nesta aula apresentaremos noções básicas da linguagem Scala. Nos exemplos abaixo, abordaremos:\n",
    "* Valores e Variáveis\n",
    "* Tipos\n",
    "* Controle de fluxo\n",
    "* Loops\n",
    "* Funções\n",
    "* Objetos\n",
    "* Classes"
   ]
  },
  {
   "cell_type": "markdown",
   "metadata": {},
   "source": [
    "Para espantar a má sorte, comecemos com o básico:"
   ]
  },
  {
   "cell_type": "code",
   "execution_count": null,
   "metadata": {
    "collapsed": true
   },
   "outputs": [],
   "source": [
    "print(\"Olá Mundo!\")"
   ]
  },
  {
   "cell_type": "markdown",
   "metadata": {},
   "source": [
    "## Valores e Variáveis\n",
    "---\n",
    "Em Scala, nós podemos armazenar informações em valores e variáveis."
   ]
  },
  {
   "cell_type": "markdown",
   "metadata": {},
   "source": [
    "### Valores\n",
    "Valores são informações imutáveis, ou seja, constantes. No exemplo abaixo, criamos um valor e atribuímos **10** a ele:"
   ]
  },
  {
   "cell_type": "code",
   "execution_count": null,
   "metadata": {
    "collapsed": true
   },
   "outputs": [],
   "source": [
    "val valor = 10"
   ]
  },
  {
   "cell_type": "markdown",
   "metadata": {},
   "source": [
    "Como valores são imutáveis, não podemos realizar uma segunda atribuição nele. Quando tentamos atribuir uma nova informação, obtemos o erro de *reassigment to val*:"
   ]
  },
  {
   "cell_type": "code",
   "execution_count": null,
   "metadata": {
    "collapsed": true
   },
   "outputs": [],
   "source": [
    "valor = 20"
   ]
  },
  {
   "cell_type": "markdown",
   "metadata": {},
   "source": [
    "### Variáveis\n",
    "Variáveis são informações mutáveis, ou seja, como o próprio nome sugere, variáveis. No exemplo abaixo, criamos uma variável e atribuímos **10** a ela:"
   ]
  },
  {
   "cell_type": "code",
   "execution_count": null,
   "metadata": {
    "collapsed": true
   },
   "outputs": [],
   "source": [
    "var variavel = 10"
   ]
  },
  {
   "cell_type": "markdown",
   "metadata": {},
   "source": [
    "Diferente dos valores, podemos alterar a informação da variável:"
   ]
  },
  {
   "cell_type": "code",
   "execution_count": null,
   "metadata": {
    "collapsed": true
   },
   "outputs": [],
   "source": [
    "variavel = 20\n",
    "print(variavel)"
   ]
  },
  {
   "cell_type": "markdown",
   "metadata": {},
   "source": [
    "Porém, nunca podemos mudar o tipo da variável. Caso o façamos, obtemos um erro de *type mismatch*."
   ]
  },
  {
   "cell_type": "code",
   "execution_count": null,
   "metadata": {
    "collapsed": true
   },
   "outputs": [],
   "source": [
    "variavel = \"string\""
   ]
  },
  {
   "cell_type": "markdown",
   "metadata": {},
   "source": [
    "Quando vamos atribuir algo a um **val** ou **var**, podemos escrever um bloco de código. Blocos de código podem retornar informações em Scala."
   ]
  },
  {
   "cell_type": "code",
   "execution_count": null,
   "metadata": {
    "collapsed": true
   },
   "outputs": [],
   "source": [
    "val x = 1\n",
    "val y = {\n",
    "    val a = 10\n",
    "    a + x\n",
    "}"
   ]
  },
  {
   "cell_type": "markdown",
   "metadata": {},
   "source": [
    "## Tipos\n",
    "---\n",
    "Assim como Java, Scala possui alguns tipos básicos de informações. Para definir o tipo de um valor ou variável, basta usar a seguinte sintaxe:"
   ]
  },
  {
   "cell_type": "code",
   "execution_count": null,
   "metadata": {
    "collapsed": true
   },
   "outputs": [],
   "source": [
    "var x: Int = 10"
   ]
  },
  {
   "cell_type": "markdown",
   "metadata": {},
   "source": [
    "O tipo é definido durante a primeira atribuição. Como em valores realizamos apenas uma atribuição, não é necessário colocar tipo, porém, se quisermos, podemos forçar uma variável a ser de um certo tipo:"
   ]
  },
  {
   "cell_type": "code",
   "execution_count": null,
   "metadata": {
    "collapsed": true
   },
   "outputs": [],
   "source": [
    "var inteiro: Int\n",
    "inteiro = \"string\""
   ]
  },
  {
   "cell_type": "markdown",
   "metadata": {},
   "source": [
    "Os seguintes tipos são os mais utilizados em Scala:\n",
    "* Int - inteiro\n",
    "* Double - decimal\n",
    "* Boolean - booleano\n",
    "* Char - caractere\n",
    "* String - cadeia de caracteres"
   ]
  },
  {
   "cell_type": "code",
   "execution_count": null,
   "metadata": {
    "collapsed": true
   },
   "outputs": [],
   "source": [
    "val inteiro = 1\n",
    "val decimal = 1.5\n",
    "val booleano = true\n",
    "val char = 'c'\n",
    "val string = \"string\""
   ]
  },
  {
   "cell_type": "markdown",
   "metadata": {},
   "source": [
    "### O tipo Any\n",
    "Em Scala, existe um tipo que representa qualquer coisa: **Any**. Uma variável desse tipo pode receber qualquer informação."
   ]
  },
  {
   "cell_type": "code",
   "execution_count": null,
   "metadata": {
    "collapsed": true
   },
   "outputs": [],
   "source": [
    "var any:Any = 1\n",
    "any = 1.5\n",
    "any = true\n",
    "any = 'c'\n",
    "any = \"string\""
   ]
  },
  {
   "cell_type": "markdown",
   "metadata": {},
   "source": [
    "### Arrays\n",
    "Arrays em Scala são, como em Java, vetores de tamanho fixo de um determinado tipo. Podemos declarar um Array das seguintes maneiras:"
   ]
  },
  {
   "cell_type": "code",
   "execution_count": null,
   "metadata": {
    "collapsed": true
   },
   "outputs": [],
   "source": [
    "// Um array de dez inteiros, inicializado com zeros\n",
    "val nums = new Array[Int](10)\n",
    "\n",
    "// Um array de string, inicializado com nulls\n",
    "val a = new Array[String](10)\n",
    "\n",
    "// Podemos também definir um array informando seus conteúdos ao invés de tamanho\n",
    "val s = Array(\"Hello\", \"World\")\n",
    "// OBS: qunado informa-see os elementos do array, não utilizamos new\n",
    "\n",
    "// Em Scala, utilizamos () ao invés de [] para acessar os elementos de um array.\n",
    "s(0) = \"Goodbye\"\n"
   ]
  },
  {
   "cell_type": "markdown",
   "metadata": {},
   "source": [
    "Quando inicializamos um array com mais de um tipo de conteúdo, seu tipo é definido por uma classe mais genérica: "
   ]
  },
  {
   "cell_type": "code",
   "execution_count": null,
   "metadata": {
    "collapsed": true
   },
   "outputs": [],
   "source": [
    "val numeros = Array(1,2.0,3e-2)\n",
    "\n",
    "val misturado = Array(1,'a',2.0,\"bc\")"
   ]
  },
  {
   "cell_type": "markdown",
   "metadata": {},
   "source": [
    "Para definir arrays multidimensionais, precisamos especificar suas dimensões."
   ]
  },
  {
   "cell_type": "code",
   "execution_count": null,
   "metadata": {
    "collapsed": true
   },
   "outputs": [],
   "source": [
    "val matriz2d = Array.ofDim[Int](2,2)\n",
    "val matriz3d = Array.ofDim[Int](2,2,2)"
   ]
  },
  {
   "cell_type": "markdown",
   "metadata": {},
   "source": [
    "## Controle de fluxo\n",
    "---\n",
    "A sintaxe para controle de fluxo é igual a de linguagens como C, C++ e Java."
   ]
  },
  {
   "cell_type": "code",
   "execution_count": null,
   "metadata": {
    "collapsed": true
   },
   "outputs": [],
   "source": [
    "val x = 11\n",
    "\n",
    "if(x%2==0){\n",
    "    print(x+ \" é par\")\n",
    "}\n",
    "else{\n",
    "    print(x+ \" é ímpar\")\n",
    "}"
   ]
  },
  {
   "cell_type": "markdown",
   "metadata": {},
   "source": [
    "Como Scala é funcional, podemos usar controle de fluxo para retornar valores:"
   ]
  },
  {
   "cell_type": "code",
   "execution_count": null,
   "metadata": {
    "collapsed": true
   },
   "outputs": [],
   "source": [
    "val x = 11\n",
    "var paridade = if(x%2==0) \"par\" else \"ímpar\"\n",
    "print(\"x é \"+paridade)"
   ]
  },
  {
   "cell_type": "markdown",
   "metadata": {},
   "source": [
    "## Loops\n",
    "---\n",
    "Loops em Scala são semelhantes à Java. Porém, Scala conta com um loop do tipo **for** mais poderoso que as demais linguagens."
   ]
  },
  {
   "cell_type": "markdown",
   "metadata": {
    "collapsed": true
   },
   "source": [
    "### For\n",
    "Todo **for** em Scala itera alguma sequência. Para percorrer intervalos de valores, podemos utilizar os geradores **until** e **to** ."
   ]
  },
  {
   "cell_type": "code",
   "execution_count": null,
   "metadata": {
    "collapsed": true
   },
   "outputs": [],
   "source": [
    "println(\"for com until\")\n",
    "for(i <- 1 until 10){\n",
    "    print(i+\" \")\n",
    "}\n",
    "\n",
    "println('\\n')\n",
    "\n",
    "println(\"for com to\")\n",
    "for(i <- 1 to 10){\n",
    "    print(i+\" \")\n",
    "}"
   ]
  },
  {
   "cell_type": "markdown",
   "metadata": {},
   "source": [
    "Quando precisamos fazer laços aninhados (um loop dentro de outro) normalmente utilizamos 2 **for** diferentes."
   ]
  },
  {
   "cell_type": "code",
   "execution_count": null,
   "metadata": {
    "collapsed": true
   },
   "outputs": [],
   "source": [
    "for(i <- 1 to 3)\n",
    "    for(j <- 1 to 3)\n",
    "        print(\"(\"+i+\",\"+j+\") \")"
   ]
  },
  {
   "cell_type": "markdown",
   "metadata": {},
   "source": [
    "Em Scala, podemos usar **for comprehensions**. Em uma única definição de **for** podemos definir a combinação de laços na qual o bloco de comando será executado:"
   ]
  },
  {
   "cell_type": "code",
   "execution_count": null,
   "metadata": {
    "collapsed": true
   },
   "outputs": [],
   "source": [
    "for{\n",
    "    i <- 1 to 3\n",
    "    j <- 1 to 3\n",
    "}{\n",
    "    print(\"(\"+i+\",\"+j+\") \")\n",
    "}"
   ]
  },
  {
   "cell_type": "markdown",
   "metadata": {},
   "source": [
    "Essa compressão também permite definirmos condições sobre os valores do loop."
   ]
  },
  {
   "cell_type": "code",
   "execution_count": null,
   "metadata": {
    "collapsed": true
   },
   "outputs": [],
   "source": [
    "for{\n",
    "    i <- 1 to 3\n",
    "    if i%2==1\n",
    "    j <- 1 to 3\n",
    "    if(j>=i)\n",
    "}{\n",
    "    print(\"(\"+i+\",\"+j+\") \")\n",
    "}"
   ]
  },
  {
   "cell_type": "markdown",
   "metadata": {},
   "source": [
    "Como o **for** itera sobre uma sequência, podemos fazê-lo iterar sobre um **Array**"
   ]
  },
  {
   "cell_type": "code",
   "execution_count": null,
   "metadata": {
    "collapsed": true
   },
   "outputs": [],
   "source": [
    "val pares = Array(2,4,6,8)\n",
    "\n",
    "for(par <- pares){\n",
    "    print(par+\" \")\n",
    "}"
   ]
  },
  {
   "cell_type": "markdown",
   "metadata": {},
   "source": [
    "#### Gerando arrays com for\n",
    "Como vimos anteriormente, blocos de comando podem gerar valores, desque estes sejam a última informação do bloco. Scala contém um operador chamado **yield** que permite que o bloco do **for** retorne uma estrutura análoga ao **array**: um **IndexedSeq**. Por hora, podemos tratar essa estrutura como um array."
   ]
  },
  {
   "cell_type": "code",
   "execution_count": null,
   "metadata": {
    "collapsed": true
   },
   "outputs": [],
   "source": [
    "val pares = for{\n",
    "    i <- 0 to 10\n",
    "    if i%2 == 0\n",
    "} yield {\n",
    "    i\n",
    "}"
   ]
  },
  {
   "cell_type": "markdown",
   "metadata": {},
   "source": [
    "### While\n",
    "Em Scala, o laço do tipo **while** é análogo às outras linguagens:"
   ]
  },
  {
   "cell_type": "code",
   "execution_count": null,
   "metadata": {
    "collapsed": true
   },
   "outputs": [],
   "source": [
    "var i = 1\n",
    "while(i<=10){\n",
    "    print(i+\" \")\n",
    "    i = i + 1\n",
    "}"
   ]
  },
  {
   "cell_type": "markdown",
   "metadata": {},
   "source": [
    "### Do While\n",
    "Assim como o **while**, o laço do tipo **do while** é análogo às outras linguagens:"
   ]
  },
  {
   "cell_type": "code",
   "execution_count": null,
   "metadata": {
    "collapsed": true
   },
   "outputs": [],
   "source": [
    "var i = 0\n",
    "do {\n",
    "    print(i+\" \")\n",
    "    i = i+1\n",
    "}while(i<10)"
   ]
  },
  {
   "cell_type": "markdown",
   "metadata": {
    "collapsed": true
   },
   "source": [
    "## Funções\n",
    "---\n",
    "Em Scala, diferente de Java, além de métodos nós temos **funções**. A lógica para definir uma função é simples:\n",
    "começamos com **def** seguido pelo nome da função, em seguida apresentamos os **parâmetros** e seus **tipos** e, por fim, o **tipo do retorno** da função."
   ]
  },
  {
   "cell_type": "code",
   "execution_count": null,
   "metadata": {
    "collapsed": true
   },
   "outputs": [],
   "source": [
    "def soma1(x: Int): Int = {\n",
    "    return x + 1\n",
    "}\n",
    "\n",
    "print(soma1(10))"
   ]
  },
  {
   "cell_type": "markdown",
   "metadata": {},
   "source": [
    "### Particularidades:"
   ]
  },
  {
   "cell_type": "markdown",
   "metadata": {},
   "source": [
    "Uma função que não tem retorno é do tipo **Unit** (semelhante ao **void** em Java)."
   ]
  },
  {
   "cell_type": "code",
   "execution_count": null,
   "metadata": {
    "collapsed": true
   },
   "outputs": [],
   "source": [
    "def mostra(x: Any): Unit = {\n",
    "    println(x)\n",
    "}\n",
    "\n",
    "mostra(10)"
   ]
  },
  {
   "cell_type": "markdown",
   "metadata": {},
   "source": [
    "Assim como em estruturas de controle e laços, não precisamos colocar o código da função entre parênteses quando for uma função de apenas uma linha de código."
   ]
  },
  {
   "cell_type": "code",
   "execution_count": null,
   "metadata": {
    "collapsed": true
   },
   "outputs": [],
   "source": [
    "def soma1(x: Int): Int = return x+1\n",
    "print(soma1(10))"
   ]
  },
  {
   "cell_type": "markdown",
   "metadata": {},
   "source": [
    "Não precisamos utilizar **return** para retornar um valor, basta que esse valor seja escrito no fim da função."
   ]
  },
  {
   "cell_type": "code",
   "execution_count": null,
   "metadata": {
    "collapsed": true
   },
   "outputs": [],
   "source": [
    "def soma1(x: Int): Int = x+1\n",
    "print(soma1(10))"
   ]
  },
  {
   "cell_type": "markdown",
   "metadata": {},
   "source": [
    "Não precisamos determinar o tipo do retorno de uma função, pois o compilador é capaz de inferir esse tipo. "
   ]
  },
  {
   "cell_type": "code",
   "execution_count": null,
   "metadata": {
    "collapsed": true
   },
   "outputs": [],
   "source": [
    "def soma1(x: Int) = x+1\n",
    "print(soma1(10))"
   ]
  },
  {
   "cell_type": "markdown",
   "metadata": {},
   "source": [
    "Quando uma função pode ter mais de um tipo de retorno, o compilador define o retorno da função como um tipo intermediário."
   ]
  },
  {
   "cell_type": "code",
   "execution_count": null,
   "metadata": {
    "collapsed": true
   },
   "outputs": [],
   "source": [
    "def f(x: Int) = if(x>0) 1 else 0.0\n",
    "\n",
    "val x = f(0)\n",
    "val y = f(1)"
   ]
  },
  {
   "cell_type": "code",
   "execution_count": null,
   "metadata": {
    "collapsed": true
   },
   "outputs": [],
   "source": [
    "def f(x: Int) = if(x>0) 1 else \"menor ou igual à 0\"\n",
    "\n",
    "val x = f(0)\n",
    "val y = f(1)"
   ]
  },
  {
   "cell_type": "markdown",
   "metadata": {},
   "source": [
    "Em **funções recursivas**, é **necessário** definir o tipo, pois é uma operação muito custosa inferir todas as possibilidades de retorno de uma função recursiva."
   ]
  },
  {
   "cell_type": "code",
   "execution_count": null,
   "metadata": {
    "collapsed": true
   },
   "outputs": [],
   "source": [
    "def mostraRecursivo(x: Int) = {\n",
    "    if(x>0){\n",
    "        print(x+\", \")\n",
    "        mostraRecursivo(x-1)\n",
    "    }\n",
    "    else print(x)\n",
    "}\n",
    "\n",
    "mostraRecursivo(10)"
   ]
  },
  {
   "cell_type": "code",
   "execution_count": null,
   "metadata": {
    "collapsed": true
   },
   "outputs": [],
   "source": [
    "def mostraRecursivo(x: Int): Unit = {\n",
    "    if(x>0){\n",
    "        print(x+\", \")\n",
    "        mostraRecursivo(x-1)\n",
    "    }\n",
    "    else print(x)\n",
    "}\n",
    "\n",
    "mostraRecursivo(10)"
   ]
  },
  {
   "cell_type": "markdown",
   "metadata": {},
   "source": [
    "## Exercícios\n",
    "---"
   ]
  },
  {
   "cell_type": "markdown",
   "metadata": {},
   "source": [
    "### 1. Escreva uma função (de preferência, recursiva) que receba um inteiro n retorna o *n-ésimo* número de Fibonnaci"
   ]
  },
  {
   "cell_type": "code",
   "execution_count": null,
   "metadata": {
    "collapsed": true
   },
   "outputs": [],
   "source": []
  },
  {
   "cell_type": "markdown",
   "metadata": {},
   "source": [
    "### 2. Escreva uma função que gere todas as peças de um Dominó"
   ]
  },
  {
   "cell_type": "code",
   "execution_count": null,
   "metadata": {
    "collapsed": true
   },
   "outputs": [],
   "source": []
  },
  {
   "cell_type": "markdown",
   "metadata": {},
   "source": [
    "### 3. Escreva uma função RECURSIVA que receba um *Array[Char]* e retorne um *true* caso os parêntesis estejam balanceados ou *false*, caso contrário\n",
    "**DICA:** Crie uma função auxiliar para ajudar na recursão"
   ]
  },
  {
   "cell_type": "code",
   "execution_count": null,
   "metadata": {
    "collapsed": true
   },
   "outputs": [],
   "source": []
  },
  {
   "cell_type": "markdown",
   "metadata": {},
   "source": [
    "## Objetos\n",
    "---\n",
    "Um objeto é uma estrutura que carrega consigo informações(atributos) e comportamentos(métodos). Objetos são únicos e não podem ser sobrescritos.\n",
    "\n",
    "Podemos escrever um objeto em Scala como um código qualquer. Nesse código:\n",
    "* as variáveis e os valores são atributos\n",
    "* as funções são métodos\n",
    "\n",
    "Para definir um objeto em Scala basta utilizar a seguinte sintaxe:"
   ]
  },
  {
   "cell_type": "code",
   "execution_count": null,
   "metadata": {
    "collapsed": true
   },
   "outputs": [],
   "source": [
    "object Contador{ //nome do objeto\n",
    "    \n",
    "    var numero = 10 //um atributo que carrega a informação de um número inteiro\n",
    "    \n",
    "    def valor = numero //um método que retorna o valor de \"numero\"\n",
    "    \n",
    "    def tick = { //um método que decrementa o valor de número\n",
    "        numero -= 1\n",
    "    }\n",
    "    \n",
    "    def reset = { //um método que reseta o valor de \"numero\" para 10 \n",
    "        numero = 10\n",
    "    }\n",
    "}\n",
    "\n",
    "println(Contador.valor)\n",
    "Contador.tick\n",
    "println(Contador.valor)\n",
    "Contador.tick\n",
    "println(Contador.valor)\n",
    "\n",
    "Contador.reset\n",
    "println(Contador.valor)"
   ]
  },
  {
   "cell_type": "markdown",
   "metadata": {},
   "source": [
    "## Classes\n",
    "---\n",
    "Grupo de objetos com os **mesmos atributos** e os **mesmos comportamentos** pertencem à mesma classe.\n",
    "\n",
    "Diferente de um objeto, uma classe **precisa** ser atribuída a um valor ou variável para poder ser utilizada.\n",
    "\n",
    "Criar uma classe em Scala é bastante similar à criação de classes em outras python:"
   ]
  },
  {
   "cell_type": "code",
   "execution_count": null,
   "metadata": {
    "collapsed": true
   },
   "outputs": [],
   "source": [
    "class Pessoa {\n",
    "    var nome: String = null\n",
    "    var cpf: String = null\n",
    "}\n",
    "\n",
    "val mario = new Pessoa\n",
    "\n",
    "mario.nome = \"Mario\"\n",
    "mario.cpf = \"060.000.000-00\"\n",
    "\n",
    "println(mario.nome)\n",
    "println(mario.cpf)"
   ]
  },
  {
   "cell_type": "markdown",
   "metadata": {},
   "source": [
    "**OBS**: Por padrão, todos os métodos e atributos de uma classe em Scala são **públicos**. Para defini-los como privados, basta utilizar o modificador **private**\n",
    "\n",
    "**OBS2**: Atributos definidos como **val** são apenas para **leitura**, enquanto os definidos como **var** são para **leitura e escrita**"
   ]
  },
  {
   "cell_type": "markdown",
   "metadata": {},
   "source": [
    "### Representando uma instância como string\n",
    "\n",
    "Podemos definir um método chamado **toString** para que, quando chamarmos a função *print*, seja feita uma apresentação mais legível do objeto instanciado.\n",
    "\n",
    "Para implementar esse método em Scala, precisamos fazer uma **sobrescrita**, tendo de adicionar o modificador **override** antes do nome do método."
   ]
  },
  {
   "cell_type": "code",
   "execution_count": null,
   "metadata": {
    "collapsed": true
   },
   "outputs": [],
   "source": [
    "class Pessoa(nome: String, cpf: String){\n",
    "    def this(nome: String) = this(nome, \"Não cadastrado\")\n",
    "    \n",
    "    def getNome = nome\n",
    "    def getCPF = cpf\n",
    "    \n",
    "    override def toString = \"Nome: \"+nome+\", CPF: \"+cpf\n",
    "}\n",
    "\n",
    "val mario = new Pessoa(\"Mário\")\n",
    "print(mario)"
   ]
  },
  {
   "cell_type": "markdown",
   "metadata": {},
   "source": [
    "### Operadores\n",
    "\n",
    "Scala permite a definição de operações entre instâncias da classe e outros objetos. Em Scala, todas as informações são objetos e suas operações são chamadas de métodos:"
   ]
  },
  {
   "cell_type": "code",
   "execution_count": null,
   "metadata": {
    "collapsed": true
   },
   "outputs": [],
   "source": [
    "val x = 10\n",
    "\n",
    "//podemos chamar um método como uma operação, usando uma notação mais limpa\n",
    "println(x + 10)\n",
    "//e podemos também chamar um método pela notação padrão, utilizando ponto + nome do método + argumentos\n",
    "println(x.+(10))"
   ]
  },
  {
   "cell_type": "markdown",
   "metadata": {},
   "source": [
    "Para exemplificar o uso de operadores, vamos definir uma classe que representa os números Racionais em forma de fração, definindo métodos que nos permitem operar entre eles:"
   ]
  },
  {
   "cell_type": "code",
   "execution_count": null,
   "metadata": {
    "collapsed": true
   },
   "outputs": [],
   "source": [
    "class Racional(n: Int, d: Int){\n",
    "    //declaramos essas variáveis para tornar essas informações como públicas\n",
    "    //utilizamos val para evitar sobrescrita\n",
    "    val numerador = n\n",
    "    val denominador = d    \n",
    "    \n",
    "    def somar(b: Racional): Racional = \n",
    "        new Racional(numerador*b.denominador + b.numerador * denominador, denominador*b.denominador)\n",
    "    \n",
    "    def subtrair(b: Racional): Racional = \n",
    "        new Racional(numerador*b.denominador - b.numerador * denominador, denominador*b.denominador)\n",
    "    \n",
    "    override def toString: String = numerador.toString+\"/\"+denominador.toString\n",
    "}\n",
    "\n",
    "val metade = new Racional(1,2)\n",
    "val terco = new Racional(1,3)\n",
    "\n",
    "println(\"soma: \"+metade.somar(terco))\n",
    "println(\"subtração: \"+metade.subtrair(terco))"
   ]
  },
  {
   "cell_type": "markdown",
   "metadata": {},
   "source": [
    "Podemos reescrever esses métodos como os seguintes operadores: + e -:"
   ]
  },
  {
   "cell_type": "code",
   "execution_count": null,
   "metadata": {
    "collapsed": true
   },
   "outputs": [],
   "source": [
    "class Racional(n: Int, d: Int){\n",
    "    //declaramos essas variáveis para tornar essas informações como públicas\n",
    "    //utilizamos val para evitar sobrescrita\n",
    "    val numerador = n\n",
    "    val denominador = d    \n",
    "    \n",
    "    def + (b: Racional): Racional = \n",
    "        new Racional(numerador*b.denominador + b.numerador * denominador, denominador*b.denominador)\n",
    "    \n",
    "    def - (b: Racional): Racional = \n",
    "        new Racional(numerador*b.denominador - b.numerador * denominador, denominador*b.denominador)\n",
    "    \n",
    "    override def toString: String = numerador.toString+\"/\"+denominador.toString\n",
    "}\n",
    "\n",
    "val metade = new Racional(1,2)\n",
    "val terco = new Racional(1,3)\n",
    "\n",
    "println(\"soma: \"+(metade + terco))\n",
    "println(\"subtração: \"+(metade - terco))"
   ]
  },
  {
   "cell_type": "markdown",
   "metadata": {},
   "source": [
    "## Exercícios\n",
    "---"
   ]
  },
  {
   "cell_type": "markdown",
   "metadata": {},
   "source": [
    "### 4. Escreva uma classe que represente uma matriz m x n que tenha os seguintes métodos:\n",
    "\n",
    "* Criar uma matriz informando suas dimensões (m x n);\n",
    "* Acessar o elemento da matriz dada uma coordenada;\n",
    "* Alterar o elemento da matriz dada uma coordenada;\n",
    "* Imprimir a matriz na tela\n",
    "\n",
    "### Implemente também as seguintes operações:\n",
    "\n",
    "* Soma\n",
    "* Subtração"
   ]
  },
  {
   "cell_type": "code",
   "execution_count": null,
   "metadata": {
    "collapsed": true
   },
   "outputs": [],
   "source": []
  },
  {
   "cell_type": "markdown",
   "metadata": {},
   "source": [
    "### 5. Crie um Object para gerar matrizes preenchidas automaticamente(como a matriz identidate, matriz diagonal, etc.)"
   ]
  },
  {
   "cell_type": "code",
   "execution_count": null,
   "metadata": {
    "collapsed": true
   },
   "outputs": [],
   "source": []
  }
 ],
 "metadata": {
  "kernelspec": {
   "display_name": "Scala",
   "language": "scala",
   "name": "scala"
  },
  "language_info": {
   "codemirror_mode": "text/x-scala",
   "file_extension": ".scala",
   "mimetype": "text/x-scala",
   "name": "scala211",
   "nbconvert_exporter": "script",
   "pygments_lexer": "scala",
   "version": "2.11.11"
  }
 },
 "nbformat": 4,
 "nbformat_minor": 2
}
