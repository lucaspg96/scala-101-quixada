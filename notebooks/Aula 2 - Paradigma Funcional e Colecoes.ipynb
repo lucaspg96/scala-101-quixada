{
 "cells": [
  {
   "cell_type": "markdown",
   "metadata": {},
   "source": [
    "# Aula 2\n",
    "A partir dessa aula nosso estudo será mais direcionado para o viés funcional de Scala. Nesta aula será apresentado:\n",
    "\n",
    "* *Case Classes* e *Pattern Matching*\n",
    "* Introdução ao Paradigma Funcional\n",
    "* Coleções"
   ]
  },
  {
   "cell_type": "markdown",
   "metadata": {},
   "source": [
    "## *Pattern Matching*\n",
    "---"
   ]
  },
  {
   "cell_type": "markdown",
   "metadata": {},
   "source": [
    "Em várias linguagens existe um operador chamado *switch*, que funciona como uma sucessiva aplicação de *if* e *else*. Em Scala, o operador que faz isso é chamado de *match*. O exemplo abaixo demonstra um simples funcionamento do *match*, onde reescrevemos o encadeamento de estruturas de controle utilizando *pattern matching*:\n"
   ]
  },
  {
   "cell_type": "code",
   "execution_count": null,
   "metadata": {
    "collapsed": true
   },
   "outputs": [],
   "source": [
    "val x = 5\n",
    "\n",
    "if(x==5) println(\"x = 5\") //caso x seja 5\n",
    "else if(x==10) println(\"x = 10\") //caso x seja 10\n",
    "else println(\"x não é 5 nem 10\") //caso x não seja nem 5 nem 10\n",
    "\n",
    "x match {\n",
    "    case 5 => println(\"x = 5\") //caso x seja 5\n",
    "    case 10 => println(\"x = 10\") //caso x seja 10\n",
    "    case _ => println(\"x não é 5 nem 10\") //caso x não seja nem 5 nem 10\n",
    "}"
   ]
  },
  {
   "cell_type": "markdown",
   "metadata": {},
   "source": [
    "Diferente de outras linguagens, o *pattern matching* aceita não só comparação com números inteiros, mas sim com qualquer valor:"
   ]
  },
  {
   "cell_type": "code",
   "execution_count": null,
   "metadata": {
    "collapsed": true
   },
   "outputs": [],
   "source": [
    "val s: Any = \"olá\"\n",
    "\n",
    "s match {\n",
    "    case \"olá\" => println(\"olá! :D\")\n",
    "    case \"oi\" => println(\"oi! :)\")\n",
    "    case i:Int => println(\"é o que mah?\")\n",
    "}"
   ]
  },
  {
   "cell_type": "markdown",
   "metadata": {},
   "source": [
    "### Refinando o *Pattern Matching*: Case Class\n",
    "\n",
    "Podemos aplicar o operador *match* sobre qualquer tipo. Existe um recurso em Scala chamado de *case class*: uma classe que pode ser usada no *pattern matching* para obter os **valores utilizados para a criação do objeto**. Vamos ao exemplo a seguir: "
   ]
  },
  {
   "cell_type": "code",
   "execution_count": null,
   "metadata": {
    "collapsed": true
   },
   "outputs": [],
   "source": [
    "abstract class Valor()\n",
    "\n",
    "case class UmValor(a: Int) extends Valor //exemplo de uma classe com um valor\n",
    "\n",
    "case class DoisValores(a: Int, b: String) extends Valor //exemplo de uma classe com dois valores\n",
    "\n",
    "case class TresValores(a: Int, b: Int, c: Int) extends Valor //exemplo de uma classe com três valores\n",
    "\n",
    "val m: Valor = new DoisValores(5,\"abacaxi\")\n",
    "\n",
    "m match {\n",
    "    case UmValor(x) => print(s\"Apenas um valor: $x\")\n",
    "    case DoisValores(x,y) => print(s\"Dois valores: $x, $y\")\n",
    "    case TresValores(x,y,z) => print(s\"Três valores: $x, $y, $z\")\n",
    "}"
   ]
  },
  {
   "cell_type": "markdown",
   "metadata": {},
   "source": [
    "## Exercícios\n",
    "---"
   ]
  },
  {
   "cell_type": "markdown",
   "metadata": {},
   "source": [
    "### 1. Implemente a função *postOrder* para que ela percorra uma árvore (cuja estrutura está definida abaixo) em pós-ordem.\n",
    "**OBS:** Para percorrer uma árvore em pós ordem tem-se de:\n",
    "* percorrer a sub-árvore esquerda em pós-ordem\n",
    "* percorrer a sub-árvore direita em pós-ordem\n",
    "* visitar a raíz"
   ]
  },
  {
   "cell_type": "code",
   "execution_count": null,
   "metadata": {
    "collapsed": true
   },
   "outputs": [],
   "source": [
    "abstract class Tree[T]\n",
    "\n",
    "case class Leaf[T](elem: T) extends Tree[T]\n",
    "case class Fork[T](elem: T, left: Tree[T], right: Tree[T]) extends Tree[T]\n",
    "\n",
    "def postOrder[T](tree: Tree[T]): String = ???\n",
    "\n",
    "val t = Fork(5,\n",
    "            Fork(3,Leaf(2), Leaf(1)),\n",
    "            Fork(7,Leaf(9), Leaf(8))\n",
    "        )\n",
    "\n",
    "//a função require precisa receber o valor true. Caso contrário, ela dispara uma exceção.\n",
    "require(postOrder(t) == \"2,1,3,9,8,7,5\")"
   ]
  },
  {
   "cell_type": "markdown",
   "metadata": {},
   "source": [
    "## Paradigma Funcional\n",
    "---\n",
    "\n",
    "Nesta seção, trabalharemos 2 aspectos do paradigma funcional:\n",
    "* Função como Valor\n",
    "* Função Anônima"
   ]
  },
  {
   "cell_type": "markdown",
   "metadata": {},
   "source": [
    "### Função como valor\n",
    "\n",
    "O paradigma funcional permite que uma função seja tratada como uma informação, um **valor**. Até o momento vimos que uma certa variável x poderia armazenar números, caracteres, boleanos e objetos. Em linguagens funcionais, que é o caso de Scala, x também pode armazenar uma **função**:"
   ]
  },
  {
   "cell_type": "code",
   "execution_count": null,
   "metadata": {
    "collapsed": true
   },
   "outputs": [],
   "source": [
    "//uma simples função que soma 2 inteiros\n",
    "def somar(a: Int, b: Int): Int = a + b \n",
    "\n",
    "//armazenando a função como variável\n",
    "val x: (Int,Int) => Int = somar"
   ]
  },
  {
   "cell_type": "markdown",
   "metadata": {},
   "source": [
    "No exemplo de código acima, podemos notar que x possui um tipo bem diferente do que vimos até agora. Essa é a notação de um **tipo** função em Scala. Inicialmente, temos os tipos dos parâmetros que a função vai receber e, por fim, o tipo que será retornado. No exemplo acima, x é uma função que recebe 2 inteiros e retorna outro inteiro, que é exatamente o que a função somar faz. Agora, podemos tratar x como uma função e realizar chamadas:"
   ]
  },
  {
   "cell_type": "code",
   "execution_count": null,
   "metadata": {
    "collapsed": true
   },
   "outputs": [],
   "source": [
    "println(x(1,2))\n",
    "println(x(3,5))"
   ]
  },
  {
   "cell_type": "markdown",
   "metadata": {},
   "source": [
    "#### *Curiosidade*\n",
    "\n",
    "Scala permite, literalmente, a definição de **tipos**. No exemplo acima, vimos que o valor *x* é uma função que recebe dois inteiros e retorna outro. A função *somar* segue essa mesma assinatura, assim como poderia seguir a função *subtrair* ou *multiplicar*. Para fins de legibilidade, podemos definir um tipo *OperacaoBinaria* que representa essa assinatura de função!"
   ]
  },
  {
   "cell_type": "code",
   "execution_count": null,
   "metadata": {
    "collapsed": true
   },
   "outputs": [],
   "source": [
    "type OperacaoBinaria = (Int, Int) => Int\n",
    "\n",
    "def somar(a: Int, b: Int): Int = a + b \n",
    "\n",
    "val x: OperacaoBinaria = somar\n",
    "\n",
    "println(x(1,2))\n",
    "println(x(3,5))"
   ]
  },
  {
   "cell_type": "markdown",
   "metadata": {},
   "source": [
    "### Função Anônima\n",
    "\n",
    "Até o momento nós apenas atribuímos funções pré-definidas a variáveis, ou seja, funções que passaram por um processo de declaração, onde receberam um identificador. O paradigma funcional permite a criação de funções sem declaração de identificador. Essas funções são chamadas de *Funções Anônimas*."
   ]
  },
  {
   "cell_type": "code",
   "execution_count": null,
   "metadata": {
    "collapsed": true
   },
   "outputs": [],
   "source": [
    "def somar(a: Int, b: Int): Int = a + b \n",
    "\n",
    "//x recebe uma função previamente declarada, a qual soma 2 inteiros\n",
    "val x: (Int,Int) => Int = somar\n",
    "\n",
    "//y recebe uma função sem antes ser declarada, a qual soma 2 inteiros\n",
    "val y: (Int, Int) => Int = (a,b) => a + b\n",
    "\n",
    "println(x(1,2))\n",
    "println(y(1,2))"
   ]
  },
  {
   "cell_type": "markdown",
   "metadata": {},
   "source": [
    "Para definirmos uma função anônima basta utilizar uma sintaxe similar a definição do tipo função: primeiro informa os parâmetros da função e, em seguida, o corpo do código. \n",
    "\n",
    "OBS: É sempre necessário fazer a correspondência dos tipos, seja na hora de tipar a variável que receberá a função ou na própria função:"
   ]
  },
  {
   "cell_type": "markdown",
   "metadata": {},
   "source": [
    "Uma aplicação comum de funções anônimas é quando precisamos **mandar uma função para ser executada dentro de outra**. Veremos isso mais a frente."
   ]
  },
  {
   "cell_type": "markdown",
   "metadata": {},
   "source": [
    "## Exercícios\n",
    "---"
   ]
  },
  {
   "cell_type": "markdown",
   "metadata": {
    "collapsed": true
   },
   "source": [
    "### 2. Vamos definir o tipo Conjunto como uma função que recebe um inteiro e retorna um booleano. Se um elemento pertencer ao conjunto, o retorno deverá ser true. Caso contrário, false. Implemente os métodos abaixo a fim de conseguir executar a célula:"
   ]
  },
  {
   "cell_type": "code",
   "execution_count": null,
   "metadata": {
    "collapsed": true
   },
   "outputs": [],
   "source": [
    "type Set = Int => Boolean\n",
    "\n",
    "object Operador{\n",
    "    def conjuntoUnitario(n: Int): Set = ???\n",
    "    \n",
    "    def uniao(s: Set, t: Set): Set = ???\n",
    "    \n",
    "    def interseccao(s: Set, t: Set): Set = ???\n",
    "    \n",
    "    def diferenca(s: Set, t: Set): Set = ???\n",
    "    \n",
    "    def complemento(s: Set): Set = ???\n",
    "}\n",
    "\n",
    "\n",
    "val s = Operador.conjuntoUnitario(2)\n",
    "val t = Operador.conjuntoUnitario(1)\n",
    "\n",
    "require(!s(1))\n",
    "require(s(2))\n",
    "require(!t(2))\n",
    "require(t(1))\n",
    "\n",
    "val u = Operador.uniao(s,t)\n",
    "\n",
    "require(u(1))\n",
    "require(u(2))\n",
    "require(!u(3))\n",
    "\n",
    "val i = Operador.interseccao(u,t)\n",
    "\n",
    "require(i(1))\n",
    "require(!i(2))\n",
    "require(!i(3))\n",
    "\n",
    "val d = Operador.diferenca(u,t)\n",
    "\n",
    "require(d(2))\n",
    "require(!d(1))\n",
    "require(!d(3))\n",
    "\n",
    "val c = Operador.complemento(u)\n",
    "\n",
    "require(!c(1))\n",
    "require(!c(2))\n",
    "require(c(3))\n",
    "require(c(4))\n",
    "\n",
    "println(\"Parabéns! Sua implementação está correta!\")"
   ]
  },
  {
   "cell_type": "markdown",
   "metadata": {},
   "source": [
    "## Coleções\n",
    "---"
   ]
  },
  {
   "cell_type": "markdown",
   "metadata": {},
   "source": [
    "Nessa parte da aula, apresentaremos algumas das estruturas de dados de Scala. Trabalharemos com:\n",
    "\n",
    "* Tuples (tuplas)\n",
    "\n",
    "\n",
    "* Iterables (iteráveis):\n",
    "    * Lists (listas)\n",
    "    * Maps (mapas)\n",
    "    \n",
    "OBS:\n",
    "* Scala trabalha com o princípio de *imutabilidade*, ou seja, suas coleções são geralmente imutáveis. Operações que modificam as estruturas normalmente retornam uma nova estrutura com a modificação realizada.\n",
    "* Em Scala, não é necessário utilizar o *new* para criar uma estrutura de dados, basta, se necessário, colocar entre parênteses os elementos iniciais"
   ]
  },
  {
   "cell_type": "markdown",
   "metadata": {},
   "source": [
    "### *Tuples*\n",
    "\n",
    "Tuplas são conjuntos ordenados de informações. Elas têm tamanho pré-definido e são parametrizadas para cada elemento:"
   ]
  },
  {
   "cell_type": "code",
   "execution_count": null,
   "metadata": {
    "collapsed": true
   },
   "outputs": [],
   "source": [
    "val x: (Int,Int) = (1,2)\n",
    "val y: (Int,String,Int) = (10,\"abc\",23)\n",
    "val z: (Int,String,Double,Int,Char) = (10,\"abc\",15.3,2,'o')"
   ]
  },
  {
   "cell_type": "markdown",
   "metadata": {},
   "source": [
    "Para acessar os elementos de uma tupla, basta utilizar a notação ._n, onde n é a posição do elemento da tupla (começando de 1)"
   ]
  },
  {
   "cell_type": "code",
   "execution_count": null,
   "metadata": {
    "collapsed": true
   },
   "outputs": [],
   "source": [
    "println(x._1)\n",
    "println(x._2)"
   ]
  },
  {
   "cell_type": "markdown",
   "metadata": {},
   "source": [
    "Tuplas também permitem atribuição direta de cada elemento a uma variável:"
   ]
  },
  {
   "cell_type": "code",
   "execution_count": null,
   "metadata": {
    "collapsed": true
   },
   "outputs": [],
   "source": [
    "val (a,b,c) = y\n",
    "\n",
    "println(s\"a: $a, b: $b, c: $c\")"
   ]
  },
  {
   "cell_type": "markdown",
   "metadata": {},
   "source": [
    "### *Iterables*\n",
    "\n",
    "Iteráveis são estruturas de dados que podem possuir vários elementos de um mesmo tipo (diferente da tupla, onde precisamos dizer o tipo de cada elemento). Essas estruturas possuem um conjunto de métodos de Alta Ordem (métodos que recebem outras funções que serão executadas em seu interior) para manipular seus elementos. Os tipos mais comuns de estruturas Iteráveis são Listas e Mapas.\n",
    "\n",
    "\n",
    "#### Listas\n",
    "Existem 2 tipos de Sequências em Scala: indexadas (Vector, Range, String,...) e lineares (List, Queue, Stream, Stack). Sequências indexadas são sequencias cujo índice do elemento (posição) está armazenado em uma estrutura ordenada (como uma árvore B, por exemplo), permitindo rápido acesso ao elemento em uma determinada posição. \n",
    "Sequências lineares são sequências onde cada elemento possui apenas seu próprio valor e uma referência a um próximo elemento.\n",
    "\n",
    "A implementação de Lista em Scala trabalha com a estrutura cabeça e cauda: um elemento (cabeça) e uma referência ao restante da lista (cauda)."
   ]
  },
  {
   "cell_type": "code",
   "execution_count": null,
   "metadata": {
    "collapsed": true
   },
   "outputs": [],
   "source": [
    "val l = List[Int](1,2,3)\n",
    "println(l.head)\n",
    "println(l.tail)"
   ]
  },
  {
   "cell_type": "markdown",
   "metadata": {},
   "source": [
    "Como a lista é uma sequência linear, não é comum que ela seja utilizada em cenários onde deseja-se acessar um elemento em uma determinada posição, pois, em sequências lineares, isso implica em percorrer todos os elementos até encontrar a posição desejada.\n",
    "\n",
    "Listas em Scala possuem alguns operadores definidos para manipulá-las:"
   ]
  },
  {
   "cell_type": "code",
   "execution_count": null,
   "metadata": {
    "collapsed": true
   },
   "outputs": [],
   "source": [
    "val x = List[Int](1,2,3)\n",
    "\n",
    "println(10 :: x) //adiciona ao início da lista\n",
    "println(x :+ 10) //adiciona ao fim da lista\n",
    "println(x ++ List[Int](4,5)) //adiciona a segunda lista ao final da primeira\n",
    "println(x ::: List[Int](4,5)) //adiciona a segunda lista ao final da primeira"
   ]
  },
  {
   "cell_type": "markdown",
   "metadata": {},
   "source": [
    "Existem alguns métodos comuns a todas as coleções em Scala, a fim de auxiliar na obtenção de informações:"
   ]
  },
  {
   "cell_type": "code",
   "execution_count": null,
   "metadata": {
    "collapsed": true
   },
   "outputs": [],
   "source": [
    "val x = List(1,2,3,2,4)\n",
    "println(x.isEmpty) //está vazia\n",
    "println(x.nonEmpty) //não está vazia\n",
    "println(x.length) //tamanho\n",
    "println(x.contains(1)) //pertinência\n",
    "println(x.sum) //soma dos elementos\n",
    "println(x.product) //produto dos elementos\n",
    "println(x.distinct) //elementos distintos\n",
    "println(x mkString(\",\")) //gera uma string utilizando um separador\n",
    "println(x mkString(\"(\",\",\",\")\")) //gera uma string utilizando um separador, uma string para iniciar e uma para finalizar"
   ]
  },
  {
   "cell_type": "markdown",
   "metadata": {},
   "source": [
    "As coleções iteráveis em Scala também possuem vários métodos de Alta Ordem em comum. Mostraremos  alguns desses métodos e como eles funcionam com as listas. O mesmo vale para outras coleções (com algumas modificações no mapa). Para os exemplos a seguir, utilizaremos a seguinte lista:"
   ]
  },
  {
   "cell_type": "code",
   "execution_count": null,
   "metadata": {
    "collapsed": true
   },
   "outputs": [],
   "source": [
    "val x = List[Int](1,2,3,4,5,6,7,8,9)"
   ]
  },
  {
   "cell_type": "markdown",
   "metadata": {},
   "source": [
    "* For Each: aplica uma certa função sobre os elementos da coleção"
   ]
  },
  {
   "cell_type": "code",
   "execution_count": null,
   "metadata": {
    "collapsed": true
   },
   "outputs": [],
   "source": [
    "x foreach (e => println(e))"
   ]
  },
  {
   "cell_type": "markdown",
   "metadata": {},
   "source": [
    "**OBS**: em funções simples como a do exemplo acima, podemos utilizar uma notação simplificada de função anônima, onde a variável é substituída por *wildcard*( _ ):"
   ]
  },
  {
   "cell_type": "code",
   "execution_count": null,
   "metadata": {
    "collapsed": true
   },
   "outputs": [],
   "source": [
    "x foreach (println(_))"
   ]
  },
  {
   "cell_type": "markdown",
   "metadata": {},
   "source": [
    "**OBS2**: Como a função *println* já é uma função que recebe apenas um parâmetro, podemos mandá-la diretamente como argumento:"
   ]
  },
  {
   "cell_type": "code",
   "execution_count": null,
   "metadata": {
    "collapsed": true
   },
   "outputs": [],
   "source": [
    "x foreach (println)"
   ]
  },
  {
   "cell_type": "markdown",
   "metadata": {},
   "source": [
    "* Filter: retorna apenas os elementos da coleção que atendem a um certo predicado (função que recebe um elemento da lista e retorna Boolean)"
   ]
  },
  {
   "cell_type": "code",
   "execution_count": null,
   "metadata": {
    "collapsed": true
   },
   "outputs": [],
   "source": [
    "x.filter(_%2 == 0) //apenas números pares"
   ]
  },
  {
   "cell_type": "markdown",
   "metadata": {},
   "source": [
    "* Map: gera uma nova coleção, aplicando uma função sobre cada elemento da lista"
   ]
  },
  {
   "cell_type": "code",
   "execution_count": null,
   "metadata": {
    "collapsed": true
   },
   "outputs": [],
   "source": [
    "x map (_*2) //lista com o dobro dos elementos"
   ]
  },
  {
   "cell_type": "markdown",
   "metadata": {},
   "source": [
    "* Flat Map: é similar ao map, porém, a função aplicada a cada elemento deve retornar uma sequência. No final, todas as sequências são encadeadas como uma só"
   ]
  },
  {
   "cell_type": "code",
   "execution_count": null,
   "metadata": {
    "collapsed": true
   },
   "outputs": [],
   "source": [
    "List[Int](1,2,3) flatMap (0 to _) //para cada elemento e, retorna a sequência de 0 à e"
   ]
  },
  {
   "cell_type": "markdown",
   "metadata": {},
   "source": [
    "* Zip: retorna uma lista de tuplas que combina elementos da coleção com outra\n"
   ]
  },
  {
   "cell_type": "code",
   "execution_count": null,
   "metadata": {
    "collapsed": true
   },
   "outputs": [],
   "source": [
    "val y = x zip List[Int](9,8,7,6,5,4,3,2,1)\n",
    "print(y)"
   ]
  },
  {
   "cell_type": "markdown",
   "metadata": {},
   "source": [
    "##### *Curiosidade*\n",
    "Para gerarmos, a partir de uma lista, uma nova lista onde cada elemento está junto de seu índice (posição na lista), podemos chamar o método *zipWithIndex*:"
   ]
  },
  {
   "cell_type": "code",
   "execution_count": null,
   "metadata": {
    "collapsed": true
   },
   "outputs": [],
   "source": [
    "x zipWithIndex"
   ]
  },
  {
   "cell_type": "markdown",
   "metadata": {},
   "source": [
    "##### *Curiosidade*\n",
    "Uma coleção de tuplas permite um for um pouco mais expressivo:"
   ]
  },
  {
   "cell_type": "code",
   "execution_count": null,
   "metadata": {
    "collapsed": true
   },
   "outputs": [],
   "source": [
    "for((a,b) <- y) println(s\"($a,$b)\")"
   ]
  },
  {
   "cell_type": "markdown",
   "metadata": {},
   "source": [
    "* Group By: retorna um mapa onde a chave é o valor de agrupamento (obtido de cada elemento da estrutura) e o valor é uma lista de elementos que pertencem ao grupo."
   ]
  },
  {
   "cell_type": "code",
   "execution_count": null,
   "metadata": {
    "collapsed": true
   },
   "outputs": [],
   "source": [
    "x groupBy (_%2)"
   ]
  },
  {
   "cell_type": "markdown",
   "metadata": {},
   "source": [
    "#### Mapas\n",
    "\n",
    "Mapas em Scala são estruturas do formato *chave -> valor*. Como o nome sugere, dada uma chave *k*, ela possui um valor correspondente *v*. Um mapa pode ser gerado de várias formas: utilizando o construtor de Map, uma lista de tuplas de tamanho 2 ou uma lista de bindings (mapeamentos chave, valor)"
   ]
  },
  {
   "cell_type": "code",
   "execution_count": null,
   "metadata": {
    "collapsed": true
   },
   "outputs": [],
   "source": [
    "val a = Map(\"a\" -> 1, \"b\" -> 2, \"c\" -> 3)\n",
    "val b = List((\"d\",4),(\"e\",5),(\"f\",6)).toMap\n",
    "val c = List(\"g\"->7,\"h\"->8,\"i\"->9).toMap"
   ]
  },
  {
   "cell_type": "markdown",
   "metadata": {},
   "source": [
    "Mapas também possuem alguns métodos e operadores já definidos:"
   ]
  },
  {
   "cell_type": "code",
   "execution_count": null,
   "metadata": {
    "collapsed": true
   },
   "outputs": [],
   "source": [
    "println(a(\"b\")) //obtenção de valor\n",
    "println(a.getOrElse(\"j\",-1)) //obtenção de valor com valor padrão (caso a chave não exista no mapa)\n",
    "println(a + (\"j\" -> 10)) //adição de chave e valor\n",
    "println(a + (\"a\" -> 5)) //caso a chave exista, será feita uma sobrescrita no valor\n",
    "println(a - \"a\")  //remoção de chave (e valor, por consequência)\n",
    "println(a.keys) //chaves da coleção\n",
    "println(a.values) //valores da coleção"
   ]
  },
  {
   "cell_type": "markdown",
   "metadata": {},
   "source": [
    "Diferente das lista, as iterações feitas sobre mapas são aplicadas sobre o par (chave, valor):"
   ]
  },
  {
   "cell_type": "code",
   "execution_count": null,
   "metadata": {
    "collapsed": true
   },
   "outputs": [],
   "source": [
    "for((c,v) <- a) print(s\"$c -> $v\\t\")\n",
    "println()\n",
    "\n",
    "println(a map (x => x._1 -> 2*x._2) mkString \"\\t\")\n",
    "\n",
    "println(a mkString \"\\t\")"
   ]
  },
  {
   "cell_type": "markdown",
   "metadata": {},
   "source": [
    "## Exercícios\n",
    "---"
   ]
  },
  {
   "cell_type": "markdown",
   "metadata": {},
   "source": [
    "### 3.  O código abaixo faz a leitura do dataset de flores [Iris](https://archive.ics.uci.edu/ml/datasets/iris). Transforme as linhas do arquivo em uma *case class Amostra* , que representa uma linha do dataset. Por fim, compute a média dos 4 atributos em cada classe (setosa, versicolor e virginica)"
   ]
  },
  {
   "cell_type": "code",
   "execution_count": null,
   "metadata": {
    "collapsed": true
   },
   "outputs": [],
   "source": [
    "//importando o objeto Source, que auxilia na manipulação de arquivos\n",
    "import scala.io.Source\n",
    "\n",
    "case class Amostra(sl: Double, sw: Double, pl: Double, pw: Double, c: String)\n",
    "\n",
    "//lendo as linhas do arquivo\n",
    "//NOTA: por padrão, o método Souce.fromFile retorna um Iterável que NÂO está totalmente em memória\n",
    "//NOTA 2: é dado um drop(1) nas linhas para descartar a primeira linha, que é o cabeçalho do dataset\n",
    "val lines = Source.fromFile(\"../iris-dataset.txt\").getLines.drop(1)"
   ]
  }
 ],
 "metadata": {
  "kernelspec": {
   "display_name": "Scala",
   "language": "scala",
   "name": "scala"
  },
  "language_info": {
   "codemirror_mode": "text/x-scala",
   "file_extension": ".scala",
   "mimetype": "text/x-scala",
   "name": "scala211",
   "nbconvert_exporter": "script",
   "pygments_lexer": "scala",
   "version": "2.11.11"
  }
 },
 "nbformat": 4,
 "nbformat_minor": 2
}
